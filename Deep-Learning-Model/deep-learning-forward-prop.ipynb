{
 "cells": [
  {
   "cell_type": "code",
   "execution_count": 12,
   "metadata": {},
   "outputs": [],
   "source": [
    "from tensorflow.keras.datasets import mnist"
   ]
  },
  {
   "cell_type": "code",
   "execution_count": 13,
   "metadata": {},
   "outputs": [],
   "source": [
    "import matplotlib.pyplot as plt\n",
    "import numpy as np"
   ]
  },
  {
   "cell_type": "code",
   "execution_count": 14,
   "metadata": {},
   "outputs": [],
   "source": [
    "(trainx, trainy), (testx, testy) = mnist.load_data()"
   ]
  },
  {
   "cell_type": "code",
   "execution_count": 15,
   "metadata": {},
   "outputs": [
    {
     "data": {
      "text/plain": [
       "((60000, 28, 28), (60000,), (10000, 28, 28), (10000,))"
      ]
     },
     "execution_count": 15,
     "metadata": {},
     "output_type": "execute_result"
    }
   ],
   "source": [
    "trainx.shape, trainy.shape, testx.shape, testy.shape"
   ]
  },
  {
   "cell_type": "code",
   "execution_count": 16,
   "metadata": {},
   "outputs": [
    {
     "data": {
      "text/plain": [
       "Text(0.5, 0, '4')"
      ]
     },
     "execution_count": 16,
     "metadata": {},
     "output_type": "execute_result"
    },
    {
     "data": {
      "image/png": "[encoded data removed]",
      "text/plain": [
       "<Figure size 640x480 with 1 Axes>"
      ]
     },
     "metadata": {},
     "output_type": "display_data"
    }
   ],
   "source": [
    "def choose_random_train():\n",
    "    random_number = np.random.randint(0, 60000)\n",
    "    return random_number\n",
    "\n",
    "random_number = choose_random_train()\n",
    "random_x = trainx[random_number]\n",
    "random_y = trainy[random_number]\n",
    "\n",
    "plt.imshow(random_x)\n",
    "plt.xlabel(random_y)\n",
    "\n",
    "    "
   ]
  },
  {
   "cell_type": "code",
   "execution_count": 17,
   "metadata": {},
   "outputs": [],
   "source": [
    "# making a forward propagation model\n",
    "\n",
    "# Plan\n",
    "# Start with 28x28 input layer, which takes the flattened input\n",
    "# Implement all the layers as a class\n",
    "\n",
    "class Flattener:\n",
    "    def __init__(self, shape):\n",
    "        self.from_shape = shape\n",
    "    def apply(self, data):\n",
    "        return np.ndarray.flatten(data)\n",
    "    def back_prop(self, data):\n",
    "        return np.ndarray.reshape(data, self.from_shape)\n",
    "\n",
    "# Then a simple linear model with weights only\n",
    "class Weights:\n",
    "    def __init__(self, input_size, output_size):\n",
    "        self.input_size = input_size\n",
    "        self.output_size = output_size\n",
    "\n",
    "        # We need to store transposed weights because the input is a row vector\n",
    "        self.weights = np.random.rand(input_size, output_size)*2 - 1\n",
    "    \n",
    "    def apply(self, data):\n",
    "        return np.matmul(data, self.weights)\n",
    "    \n",
    "class Biases:\n",
    "    def __init__(self, input_size):\n",
    "        self.input_size = input_size\n",
    "        self.biases = np.random.rand(input_size) * 2 - 1\n",
    "    \n",
    "    def apply(self, data):\n",
    "        return data + self.biases\n",
    "    \n",
    "class ReluActivation:\n",
    "    def __init__(self, input_size = None):\n",
    "        self.input_size = input_size\n",
    "        self.function = lambda x: 0 if x <= 0 else x\n",
    "        self.vectorized_function = np.vectorize(self.function)\n",
    "\n",
    "    def apply(self, data):\n",
    "        return self.vectorized_function(data)\n",
    "\n",
    "class SoftMaxActivation:\n",
    "    def __init__(self, input_size = None):\n",
    "        self.input_size = input_size\n",
    "    \n",
    "    def apply(self, data):\n",
    "        maximum_value = np.max(data)\n",
    "        new_data = np.exp(data - maximum_value)\n",
    "        denominator = np.sum(new_data)\n",
    "        new_data /= denominator\n",
    "        return new_data\n",
    "\n",
    "class Model:\n",
    "    def __init__(self, layers):\n",
    "        self.layers = layers\n",
    "        self.save_outputs = [None] * len(layers)\n",
    "    \n",
    "    def forward_prop(self, input):\n",
    "        intermediate_output = input\n",
    "        for i, layer in enumerate(self.layers):\n",
    "            intermediate_output = layer.apply(intermediate_output)\n",
    "            self.save_outputs[i] = intermediate_output\n",
    "        \n",
    "        return intermediate_output\n",
    "        \n",
    "\n",
    "        \n",
    "        \n",
    "    \n",
    "    # def apply(self, data):\n",
    "        \n",
    "# flattener = np.ndarray.flatten\n"
   ]
  },
  {
   "cell_type": "code",
   "execution_count": 18,
   "metadata": {},
   "outputs": [
    {
     "data": {
      "text/plain": [
       "array([0., 0., 0., 0., 1., 0., 0., 0., 0., 0.])"
      ]
     },
     "execution_count": 18,
     "metadata": {},
     "output_type": "execute_result"
    }
   ],
   "source": [
    "# Building a model\n",
    "model = Model([\n",
    "    Flattener(shape=(28, 28)),\n",
    "\n",
    "    Weights(28*28, 512),\n",
    "    Biases(512),\n",
    "    ReluActivation(),\n",
    "\n",
    "    Weights(512, 200),\n",
    "    Biases(200),\n",
    "    ReluActivation(),\n",
    "\n",
    "    Weights(200, 50),\n",
    "    Biases(50),\n",
    "    ReluActivation(),\n",
    "\n",
    "\n",
    "    Weights(50, 10),\n",
    "    Biases(10),\n",
    "    SoftMaxActivation()\n",
    "])\n",
    "\n",
    "model.forward_prop(random_x)"
   ]
  },
  {
   "cell_type": "code",
   "execution_count": 19,
   "metadata": {},
   "outputs": [
    {
     "name": "stdout",
     "output_type": "stream",
     "text": [
      "(512,)\n",
      "(512,)\n",
      "[0. 0. 1. 0. 0. 0. 0. 0. 0. 0.]\n"
     ]
    },
    {
     "data": {
      "text/plain": [
       "Text(0, 0.5, 'Output after softmax')"
      ]
     },
     "execution_count": 19,
     "metadata": {},
     "output_type": "execute_result"
    },
    {
     "data": {
      "image/png": "[encoded data removed]",
      "text/plain": [
       "<Figure size 640x480 with 3 Axes>"
      ]
     },
     "metadata": {},
     "output_type": "display_data"
    }
   ],
   "source": [
    "# Getting input\n",
    "\n",
    "random = choose_random_train()\n",
    "random_x = trainx[random]\n",
    "random_y = trainy[random]\n",
    "\n",
    "\n",
    "# Test\n",
    "flattener = Flattener(shape=(28,28))\n",
    "\n",
    "weights_layer = Weights(28*28, 512)\n",
    "bias_layer = Biases(512)\n",
    "activation_layer = ReluActivation()\n",
    "\n",
    "another_weights_layer = Weights(512, 10)\n",
    "another_bias_layer = Biases(10)\n",
    "another_activation_layer = SoftMaxActivation()\n",
    "\n",
    "plt.subplot(1,3,1)\n",
    "plt.imshow(random_x)\n",
    "\n",
    "input = random_x\n",
    "flattened_output = flattener.apply(input)\n",
    "weighted_output = weights_layer.apply(flattened_output)\n",
    "biased_output = bias_layer.apply(weighted_output)\n",
    "activated_output = activation_layer.apply(biased_output)\n",
    "\n",
    "another_weighted_output = another_weights_layer.apply(activated_output)\n",
    "another_biased_output = another_bias_layer.apply(another_weighted_output)\n",
    "another_activated_output = another_activation_layer.apply(another_biased_output)\n",
    "\n",
    "numpy_image = np.reshape(another_activated_output, (-1,1))\n",
    "\n",
    "print(weighted_output.shape)\n",
    "print(biased_output.shape)\n",
    "print(another_activated_output)\n",
    "\n",
    "plt.subplot(1,3,2)\n",
    "plt.imshow(np.reshape(another_biased_output, (-1,1)))\n",
    "plt.yticks(np.arange(10))\n",
    "plt.xticks([])\n",
    "plt.ylabel(\"\")\n",
    "\n",
    "plt.subplot(1,3,3)\n",
    "plt.imshow(numpy_image)\n",
    "plt.yticks(np.arange(10))\n",
    "plt.xticks([])\n",
    "plt.ylabel(\"Output after softmax\")"
   ]
  }
 ],
 "metadata": {
  "kernelspec": {
   "display_name": "Python 3",
   "language": "python",
   "name": "python3"
  },
  "language_info": {
   "codemirror_mode": {
    "name": "ipython",
    "version": 3
   },
   "file_extension": ".py",
   "mimetype": "text/x-python",
   "name": "python",
   "nbconvert_exporter": "python",
   "pygments_lexer": "ipython3",
   "version": "3.12.6"
  }
 },
 "nbformat": 4,
 "nbformat_minor": 2
}
