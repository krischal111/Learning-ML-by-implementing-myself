{
 "cells": [
  {
   "cell_type": "code",
   "execution_count": 1,
   "metadata": {},
   "outputs": [],
   "source": [
    "from tensorflow.keras.datasets import mnist"
   ]
  },
  {
   "cell_type": "code",
   "execution_count": 2,
   "metadata": {},
   "outputs": [],
   "source": [
    "import matplotlib.pyplot as plt\n",
    "import numpy as np"
   ]
  },
  {
   "cell_type": "code",
   "execution_count": 3,
   "metadata": {},
   "outputs": [],
   "source": [
    "(trainx, trainy), (testx, testy) = mnist.load_data()"
   ]
  },
  {
   "cell_type": "code",
   "execution_count": 4,
   "metadata": {},
   "outputs": [
    {
     "data": {
      "text/plain": [
       "((60000, 28, 28), (60000,), (10000, 28, 28), (10000,))"
      ]
     },
     "execution_count": 4,
     "metadata": {},
     "output_type": "execute_result"
    }
   ],
   "source": [
    "trainx.shape, trainy.shape, testx.shape, testy.shape"
   ]
  },
  {
   "cell_type": "code",
   "execution_count": 5,
   "metadata": {},
   "outputs": [
    {
     "data": {
      "text/plain": [
       "Text(0.5, 0, '4')"
      ]
     },
     "execution_count": 5,
     "metadata": {},
     "output_type": "execute_result"
    },
    {
     "data": {
      "image/png": "[encoded data removed]",
      "text/plain": [
       "<Figure size 640x480 with 1 Axes>"
      ]
     },
     "metadata": {},
     "output_type": "display_data"
    }
   ],
   "source": [
    "def choose_random_train():\n",
    "    random_number = np.random.randint(0, 60000)\n",
    "    return random_number\n",
    "\n",
    "random_number = choose_random_train()\n",
    "random_x = trainx[random_number]\n",
    "random_y = trainy[random_number]\n",
    "\n",
    "plt.imshow(random_x)\n",
    "plt.xlabel(random_y)\n",
    "\n",
    "    "
   ]
  },
  {
   "cell_type": "code",
   "execution_count": 25,
   "metadata": {},
   "outputs": [],
   "source": [
    "# making a forward propagation model\n",
    "\n",
    "# Plan\n",
    "# Start with 28x28 input layer, which takes the flattened input\n",
    "# Implement all the layers as a class\n",
    "\n",
    "class Flattener:\n",
    "    def __init__(self, shape):\n",
    "        self.name = f\"Flattener         : {shape} to {np.prod(shape)}\"\n",
    "        self.from_shape = shape\n",
    "        self.param_count = 0\n",
    "    def apply(self, data):\n",
    "        return np.ndarray.flatten(data)\n",
    "\n",
    "    def calculate_gradient(self, output_gradient, my_output=None, my_input=None):\n",
    "        return np.ndarray.reshape(output_gradient, self.from_shape)\n",
    "    \n",
    "    def back_prop(self, output_gradient, my_output, my_input):\n",
    "        my_gradient = 0\n",
    "        input_gradient = self.calculate_gradient(output_gradient, my_output, )\n",
    "        return input_gradient, my_gradient\n",
    "\n",
    "    def learn(self, grad, learning_rate):\n",
    "        pass\n",
    "\n",
    "# Then a simple linear model with weights only\n",
    "class Weights:\n",
    "    def __init__(self, input_size, output_size):\n",
    "        self.name = f\"Weights layer     : {input_size} to {output_size}\"\n",
    "        self.input_size = input_size\n",
    "        self.output_size = output_size\n",
    "        self.param_count = input_size * output_size\n",
    "\n",
    "        # We need to store transposed weights because the input is a row vector\n",
    "        self.weights = np.random.rand(input_size, output_size)*2 - 1\n",
    "    \n",
    "    def apply(self, data):\n",
    "        return np.matmul(data, self.weights)\n",
    "    \n",
    "    def calculate_gradient(self, output_gradient, my_output, my_input):\n",
    "        return np.transpose(np.matmul(self.weights, np.transpose(output_gradient)))\n",
    "    \n",
    "    def back_prop(self, output_gradient, my_output, my_input):\n",
    "        my_gradient = np.matmul(np.transpose(my_input), output_gradient)\n",
    "        input_gradient = self.calculate_gradient(input_gradient)\n",
    "        return input_gradient, my_gradient\n",
    "\n",
    "    def learn(self, grad, learning_rate):\n",
    "        self.weights -= grad * learning_rate\n",
    "        pass\n",
    "    \n",
    "class Biases:\n",
    "    def __init__(self, input_size):\n",
    "        self.name = f\"Biases layer      : {input_size}\"\n",
    "        self.input_size = input_size\n",
    "        self.biases = np.random.rand(input_size) * 2 - 1\n",
    "        self.param_count = input_size\n",
    "    \n",
    "    def apply(self, data):\n",
    "        return data + self.biases\n",
    "    \n",
    "    def calculate_gradient(self, output_gradient, my_output, my_input):\n",
    "        return output_gradient\n",
    "\n",
    "    def back_prop(self, output_gradient, my_output, my_input):\n",
    "        my_gradient = output_gradient\n",
    "        input_gradient = self.calculate_gradient(input_gradient)\n",
    "        return input_gradient, my_gradient\n",
    "\n",
    "    def learn(self, grad, learning_rate):\n",
    "        self.biases -= grad * learning_rate\n",
    "        pass\n",
    "    \n",
    "class ReluActivation:\n",
    "    def __init__(self, input_size = None):\n",
    "        self.name = \"ReLU activation\"\n",
    "        self.input_size = input_size\n",
    "        self.function = lambda x: 0 if x <= 0 else x\n",
    "        self.vectorized_function = np.vectorize(self.function)\n",
    "        self.vectorized_gradient = np.vectorize(lambda x: 1 if x >= 0 else 0)\n",
    "        self.param_count = 0\n",
    "\n",
    "    def apply(self, data):\n",
    "        return self.vectorized_function(data)\n",
    "\n",
    "    def calculate_gradient(self, output_gradient, my_output, my_input):\n",
    "        return np.multiply(np.vectorized_gradient(my_output), output_gradient)\n",
    "    \n",
    "    def back_prop(self, output_gradient, my_output, my_input):\n",
    "        my_gradient = 0\n",
    "        input_gradient = self.calculate_gradient(my_output, output_gradient) \n",
    "        return input_gradient, my_gradient\n",
    "        \n",
    "    def learn(self, grad, learning_rate):\n",
    "        pass\n",
    "\n",
    "class SoftMaxActivation:\n",
    "    def __init__(self, input_size = None):\n",
    "        self.name = \"Softmax activation\"\n",
    "        self.input_size = input_size\n",
    "        self.param_count = 0\n",
    "    \n",
    "    def apply(self, data):\n",
    "        maximum_value = np.max(data)\n",
    "        new_data = np.exp(data - maximum_value)\n",
    "        denominator = np.sum(new_data)\n",
    "        new_data /= denominator\n",
    "        return new_data\n",
    "    \n",
    "    def test_gradient(self, my_output, output_gradient):\n",
    "        # Through thorough calculations, though tough,\n",
    "        # Gradient of softmax is calculated as\n",
    "        # \n",
    "        \n",
    "        return np.multiply(-2*my_output, my_output - 1)\n",
    "        pass\n",
    "    \n",
    "    def calculate_gradient(self, output_gradient, my_output, my_input):\n",
    "        # gives gradient of input with respect to loss\n",
    "        # from the value of outputs, and their gradient with respect to loss\n",
    "        my_size = len(my_output)\n",
    "\n",
    "        matrix = np.matmul(my_output, np.identity(my_size)) - np.matmul(my_output, np.transpose(my_output))\n",
    "        return np.matmul(my_output, matrix)\n",
    "    \n",
    "    def back_prop(self, output_gradient, my_output, my_input):\n",
    "        my_gradient = 0\n",
    "        input_gradient = self.calculate_gradient(my_output, output_gradient)\n",
    "        return input_gradient, my_gradient\n",
    "    \n",
    "    def learn(self, grad, learning_rate):\n",
    "        pass\n",
    "\n",
    "class CrossEntropyLossFunction:\n",
    "    def __init__(self, input_size = None):\n",
    "        self.input_size = None\n",
    "        self.name = \"Cross Entropy Loss Function\"\n",
    "    \n",
    "    def apply(self, predicted_value, ground_truth):\n",
    "        # function of loss funtion\n",
    "        return np.sum(np.multiply(ground_truth, np.log(predicted_value)))\n",
    "    \n",
    "    def true_gradient(self, predicted_value, ground_truth):\n",
    "        return np.divide(-ground_truth, predicted_value)\n",
    "    \n",
    "    # def gradient_from_logits(self, predicted_value, ground_truth):\n",
    "    #     if np.shape(ground_truth) != 1:\n",
    "    #         ground_truth = np.argmax(ground_truth)\n",
    "        #\n",
    "        \n",
    "        \n",
    "            \n",
    "        \n",
    "    \n",
    "    def __call__(self, predicted_value, ground_truth):\n",
    "        return self.apply(predicted_value, ground_truth)\n",
    "\n",
    "    \n",
    "\n",
    "        \n",
    "        \n",
    "    \n",
    "    # def apply(self, data):\n",
    "        \n",
    "# flattener = np.ndarray.flatten\n"
   ]
  },
  {
   "cell_type": "code",
   "execution_count": null,
   "metadata": {},
   "outputs": [],
   "source": [
    "\n",
    "class Model:\n",
    "    def __init__(self, layers, loss_function=None):\n",
    "        self.layers = layers\n",
    "        self.save_outputs = [None] * (len(layers) + 1)\n",
    "        self.gradients = [None] * (len(layers) + 1)\n",
    "        self.param_count = sum(layer.param_count for layer in layers)\n",
    "        self.loss_function = None\n",
    "    \n",
    "    def forward_prop(self, input):\n",
    "        intermediate_output = input\n",
    "        self.save_outputs[i] = intermediate_output\n",
    "        for i, layer in enumerate(self.layers):\n",
    "            intermediate_output = layer.apply(intermediate_output)\n",
    "            self.save_outputs[i+1] = intermediate_output\n",
    "        \n",
    "        return intermediate_output\n",
    "    \n",
    "    def back_prop(self, loss_gradient):\n",
    "        last_gradient = loss_gradient\n",
    "        for i, layer in enumerate(self.layers)[::-1]:\n",
    "            input_grad, self_grad = layer.back_prop(last_gradient, self.save_outputs[i+1], self.save_outputs[i])\n",
    "            prvi, prvg = self.gradients[i]\n",
    "            prvi += input_grad\n",
    "            prvg += self_grad\n",
    "    \n",
    "    def back_prop_reset(self):\n",
    "        self.gradients = [None] * (len(self.layers) + 1)\n",
    "    \n",
    "    def learn(self, learning_rate):\n",
    "        for grad, layer in zip(self.gradients, self.layers):\n",
    "            layer.learn(grad, learning_rate)\n",
    "    \n",
    "    def __call__(self, input):\n",
    "        return self.forward_prop(input)\n",
    "    \n",
    "    def __repr__(self):\n",
    "        representation = \"\" \n",
    "        i = 0\n",
    "        for layer in self.layers:\n",
    "            i += 1\n",
    "            representation += f\"{i}. {layer.name}\\n\"\n",
    "        representation += f\"Total parameters = {self.param_count}\\n\"\n",
    "        representation += f\"Loss function = {self.loss_function.name}\\n\"\n",
    "        return representation\n",
    "\n",
    "    # def back_prop(self, output_gradients):\n",
    "        # self.save_gradients = [None] * len(layers)\n",
    "        "
   ]
  },
  {
   "cell_type": "code",
   "execution_count": 26,
   "metadata": {},
   "outputs": [
    {
     "name": "stdout",
     "output_type": "stream",
     "text": [
      "1. Flattener         : (28, 28) to 784\n",
      "2. Weights layer     : 784 to 512\n",
      "3. Biases layer      : 512\n",
      "4. ReLU activation\n",
      "5. Weights layer     : 512 to 200\n",
      "6. Biases layer      : 200\n",
      "7. ReLU activation\n",
      "8. Weights layer     : 200 to 50\n",
      "9. Biases layer      : 50\n",
      "10. ReLU activation\n",
      "11. Weights layer     : 50 to 10\n",
      "12. Biases layer      : 10\n",
      "13. Softmax activation\n",
      "Total parameters = 515080\n"
     ]
    },
    {
     "data": {
      "text/plain": [
       "array([0., 0., 0., 0., 0., 1., 0., 0., 0., 0.])"
      ]
     },
     "execution_count": 26,
     "metadata": {},
     "output_type": "execute_result"
    }
   ],
   "source": [
    "# Building a model\n",
    "model = Model([\n",
    "    Flattener(shape=(28, 28)),\n",
    "\n",
    "    Weights(28*28, 512),\n",
    "    Biases(512),\n",
    "    ReluActivation(),\n",
    "\n",
    "    Weights(512, 200),\n",
    "    Biases(200),\n",
    "    ReluActivation(),\n",
    "\n",
    "    Weights(200, 50),\n",
    "    Biases(50),\n",
    "    ReluActivation(),\n",
    "\n",
    "    Weights(50, 10),\n",
    "    Biases(10),\n",
    "\n",
    "    SoftMaxActivation()\n",
    "],\n",
    "              loss_function=CrossEntropyLossFunction())\n",
    "\n",
    "print(model)\n",
    "model(random_x)"
   ]
  },
  {
   "cell_type": "code",
   "execution_count": 8,
   "metadata": {},
   "outputs": [
    {
     "name": "stdout",
     "output_type": "stream",
     "text": [
      "(512,)\n",
      "(512,)\n",
      "[0. 0. 0. 0. 0. 1. 0. 0. 0. 0.]\n"
     ]
    },
    {
     "data": {
      "text/plain": [
       "Text(0, 0.5, 'Output after softmax')"
      ]
     },
     "execution_count": 8,
     "metadata": {},
     "output_type": "execute_result"
    },
    {
     "data": {
      "image/png": "[encoded data removed]",
      "text/plain": [
       "<Figure size 640x480 with 3 Axes>"
      ]
     },
     "metadata": {},
     "output_type": "display_data"
    }
   ],
   "source": [
    "# Getting input\n",
    "\n",
    "random = choose_random_train()\n",
    "random_x = trainx[random]\n",
    "random_y = trainy[random]\n",
    "\n",
    "\n",
    "# Test\n",
    "flattener = Flattener(shape=(28,28))\n",
    "\n",
    "weights_layer = Weights(28*28, 512)\n",
    "bias_layer = Biases(512)\n",
    "activation_layer = ReluActivation()\n",
    "\n",
    "another_weights_layer = Weights(512, 10)\n",
    "another_bias_layer = Biases(10)\n",
    "another_activation_layer = SoftMaxActivation()\n",
    "\n",
    "plt.subplot(1,3,1)\n",
    "plt.imshow(random_x)\n",
    "\n",
    "input = random_x\n",
    "flattened_output = flattener.apply(input)\n",
    "weighted_output = weights_layer.apply(flattened_output)\n",
    "biased_output = bias_layer.apply(weighted_output)\n",
    "activated_output = activation_layer.apply(biased_output)\n",
    "\n",
    "another_weighted_output = another_weights_layer.apply(activated_output)\n",
    "another_biased_output = another_bias_layer.apply(another_weighted_output)\n",
    "another_activated_output = another_activation_layer.apply(another_biased_output)\n",
    "\n",
    "numpy_image = np.reshape(another_activated_output, (-1,1))\n",
    "\n",
    "print(weighted_output.shape)\n",
    "print(biased_output.shape)\n",
    "print(another_activated_output)\n",
    "\n",
    "plt.subplot(1,3,2)\n",
    "plt.imshow(np.reshape(another_biased_output, (-1,1)))\n",
    "plt.yticks(np.arange(10))\n",
    "plt.xticks([])\n",
    "plt.ylabel(\"\")\n",
    "\n",
    "plt.subplot(1,3,3)\n",
    "plt.imshow(numpy_image)\n",
    "plt.yticks(np.arange(10))\n",
    "plt.xticks([])\n",
    "plt.ylabel(\"Output after softmax\")"
   ]
  }
 ],
 "metadata": {
  "kernelspec": {
   "display_name": "Python 3",
   "language": "python",
   "name": "python3"
  },
  "language_info": {
   "codemirror_mode": {
    "name": "ipython",
    "version": 3
   },
   "file_extension": ".py",
   "mimetype": "text/x-python",
   "name": "python",
   "nbconvert_exporter": "python",
   "pygments_lexer": "ipython3",
   "version": "3.12.6"
  }
 },
 "nbformat": 4,
 "nbformat_minor": 2
}
