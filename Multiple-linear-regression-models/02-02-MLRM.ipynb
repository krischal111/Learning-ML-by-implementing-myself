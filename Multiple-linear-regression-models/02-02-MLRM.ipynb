{
 "cells": [
  {
   "cell_type": "markdown",
   "metadata": {},
   "source": [
    "## Documentation of Multiple linear regression model (without bias*)\n",
    "\n",
    "Let's get the theory super right first.\n",
    "\n",
    "#### Features\n",
    "\n",
    "Our input are multiple features:\n",
    "$x_1, x_2, x_3, \\ldots, x_n $\n",
    "\n",
    "We can write that in terms of a vector as:\n",
    "\n",
    "$ \\vec{X} = \\begin{pmatrix} x_1 \\\\ x_2 \\\\ x_3 \\\\ \\vdots \\\\ x_n \\end{pmatrix} $\n",
    "\n",
    "#### Parameters\n",
    "\n",
    "\n",
    "Our model parameters the set of weights for each feature. (We don't have bias, but there is a workaround*😉) Listing them: \n",
    "$w_1, w_2, w_3, ..., w_n $\n",
    "\n",
    "We can also write them in the form of vectors as:\n",
    "\n",
    "$ \\vec{W} = \\begin{pmatrix} w_1 \\\\ w_2 \\\\ w_3 \\\\ \\vdots \\\\ w_n \\end{pmatrix} $\n",
    "\n",
    "#### Model\n",
    "\n",
    "Thus, from our given inputs and the parameters, our model functon is:\n",
    "\n",
    "$ f(\\vec{X}) = w_1 x_1 + w_2 x_2 + w_3 x_3 + \\cdots + w_n x_n $\n",
    "\n",
    "Thus we can simplify the model as:\n",
    "\n",
    "$ f(\\vec{X}) = \\begin{pmatrix} w_1 \\\\ w_2 \\\\ \\vdots \\\\ w_n \\end{pmatrix} \\cdot \\begin{pmatrix} x_1 \\\\ x_2 \\\\ \\vdots \\\\ x_n \\end{pmatrix} $\n",
    "\n",
    "#### Loss function\n",
    "\n",
    "One of the simplest loss function we can use is the Mean Squared Error (MSE)\n",
    "\n",
    "For a single example let's say $(\\vec{X}, y)$, it goes like:\n",
    "\n",
    "$J(\\vec{W}) = (f(\\vec{X}) - y)^2$\n",
    "\n",
    "Now, if we have set of $m$ examples as:\n",
    "\n",
    "$ (\\vec{X_1}, y_1), (\\vec{X_2}, y_2), (\\vec{X_3}, y_3), \\ldots,  (\\vec{X_n}, y_n) $\n",
    "\n",
    "Then our loss function is:\n",
    "\n",
    "$J(\\vec{W}) = \\displaystyle \\frac{\\left(f(\\vec{X_1}) - y_1\\right)^2 + \\left(f(\\vec{X_2}) - y_2\\right)^2 + \\cdots + \\left(f(\\vec{X_n}) - y_n\\right)^2}m $\n",
    "\n",
    "\n"
   ]
  }
 ],
 "metadata": {
  "language_info": {
   "name": "python"
  },
  "orig_nbformat": 4
 },
 "nbformat": 4,
 "nbformat_minor": 2
}
